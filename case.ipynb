{
 "cells": [
  {
   "cell_type": "markdown",
   "metadata": {},
   "source": [
    "# 数据预处理"
   ]
  },
  {
   "cell_type": "markdown",
   "metadata": {},
   "source": [
    "数据预处理中，主要目的是了解数据，并将数据转化为可用于模型训练的形式。\n",
    "\n",
    "首先需要对数据进行总览，了解分布情况，缺失值情况，类型情况等。\n",
    "\n",
    "然后对数据进行针对性处理，转换，填充，增添，删除等操作，即特征工程。"
   ]
  },
  {
   "cell_type": "code",
   "execution_count": 3,
   "metadata": {},
   "outputs": [],
   "source": [
    "import pandas as pd\n",
    "import numpy as np"
   ]
  },
  {
   "cell_type": "code",
   "execution_count": 4,
   "metadata": {},
   "outputs": [],
   "source": [
    "train = pd.read_csv('downloads/107537/train.csv')\n",
    "test = pd.read_csv('downloads/107537/testA.csv')"
   ]
  },
  {
   "cell_type": "code",
   "execution_count": 5,
   "metadata": {},
   "outputs": [
    {
     "data": {
      "text/plain": [
       "0         5\n",
       "1         5\n",
       "2         5\n",
       "3         3\n",
       "4         3\n",
       "         ..\n",
       "799995    3\n",
       "799996    3\n",
       "799997    3\n",
       "799998    3\n",
       "799999    3\n",
       "Name: term, Length: 800000, dtype: int64"
      ]
     },
     "execution_count": 5,
     "metadata": {},
     "output_type": "execute_result"
    }
   ],
   "source": [
    "train['term']"
   ]
  },
  {
   "cell_type": "code",
   "execution_count": 6,
   "metadata": {},
   "outputs": [
    {
     "name": "stdout",
     "output_type": "stream",
     "text": [
      "(800000, 47) (200000, 46)\n"
     ]
    }
   ],
   "source": [
    "print(train.shape, test.shape)"
   ]
  },
  {
   "cell_type": "code",
   "execution_count": 7,
   "metadata": {},
   "outputs": [
    {
     "data": {
      "text/html": [
       "<div>\n",
       "<style scoped>\n",
       "    .dataframe tbody tr th:only-of-type {\n",
       "        vertical-align: middle;\n",
       "    }\n",
       "\n",
       "    .dataframe tbody tr th {\n",
       "        vertical-align: top;\n",
       "    }\n",
       "\n",
       "    .dataframe thead th {\n",
       "        text-align: right;\n",
       "    }\n",
       "</style>\n",
       "<table border=\"1\" class=\"dataframe\">\n",
       "  <thead>\n",
       "    <tr style=\"text-align: right;\">\n",
       "      <th></th>\n",
       "      <th>id</th>\n",
       "      <th>loanAmnt</th>\n",
       "      <th>term</th>\n",
       "      <th>interestRate</th>\n",
       "      <th>installment</th>\n",
       "      <th>grade</th>\n",
       "      <th>subGrade</th>\n",
       "      <th>employmentTitle</th>\n",
       "      <th>employmentLength</th>\n",
       "      <th>homeOwnership</th>\n",
       "      <th>...</th>\n",
       "      <th>n5</th>\n",
       "      <th>n6</th>\n",
       "      <th>n7</th>\n",
       "      <th>n8</th>\n",
       "      <th>n9</th>\n",
       "      <th>n10</th>\n",
       "      <th>n11</th>\n",
       "      <th>n12</th>\n",
       "      <th>n13</th>\n",
       "      <th>n14</th>\n",
       "    </tr>\n",
       "  </thead>\n",
       "  <tbody>\n",
       "    <tr>\n",
       "      <th>0</th>\n",
       "      <td>0</td>\n",
       "      <td>35000.0</td>\n",
       "      <td>5</td>\n",
       "      <td>19.52</td>\n",
       "      <td>917.97</td>\n",
       "      <td>E</td>\n",
       "      <td>E2</td>\n",
       "      <td>320.0</td>\n",
       "      <td>2 years</td>\n",
       "      <td>2</td>\n",
       "      <td>...</td>\n",
       "      <td>9.0</td>\n",
       "      <td>8.0</td>\n",
       "      <td>4.0</td>\n",
       "      <td>12.0</td>\n",
       "      <td>2.0</td>\n",
       "      <td>7.0</td>\n",
       "      <td>0.0</td>\n",
       "      <td>0.0</td>\n",
       "      <td>0.0</td>\n",
       "      <td>2.0</td>\n",
       "    </tr>\n",
       "    <tr>\n",
       "      <th>1</th>\n",
       "      <td>1</td>\n",
       "      <td>18000.0</td>\n",
       "      <td>5</td>\n",
       "      <td>18.49</td>\n",
       "      <td>461.90</td>\n",
       "      <td>D</td>\n",
       "      <td>D2</td>\n",
       "      <td>219843.0</td>\n",
       "      <td>5 years</td>\n",
       "      <td>0</td>\n",
       "      <td>...</td>\n",
       "      <td>NaN</td>\n",
       "      <td>NaN</td>\n",
       "      <td>NaN</td>\n",
       "      <td>NaN</td>\n",
       "      <td>NaN</td>\n",
       "      <td>13.0</td>\n",
       "      <td>NaN</td>\n",
       "      <td>NaN</td>\n",
       "      <td>NaN</td>\n",
       "      <td>NaN</td>\n",
       "    </tr>\n",
       "    <tr>\n",
       "      <th>2</th>\n",
       "      <td>2</td>\n",
       "      <td>12000.0</td>\n",
       "      <td>5</td>\n",
       "      <td>16.99</td>\n",
       "      <td>298.17</td>\n",
       "      <td>D</td>\n",
       "      <td>D3</td>\n",
       "      <td>31698.0</td>\n",
       "      <td>8 years</td>\n",
       "      <td>0</td>\n",
       "      <td>...</td>\n",
       "      <td>0.0</td>\n",
       "      <td>21.0</td>\n",
       "      <td>4.0</td>\n",
       "      <td>5.0</td>\n",
       "      <td>3.0</td>\n",
       "      <td>11.0</td>\n",
       "      <td>0.0</td>\n",
       "      <td>0.0</td>\n",
       "      <td>0.0</td>\n",
       "      <td>4.0</td>\n",
       "    </tr>\n",
       "    <tr>\n",
       "      <th>3</th>\n",
       "      <td>3</td>\n",
       "      <td>11000.0</td>\n",
       "      <td>3</td>\n",
       "      <td>7.26</td>\n",
       "      <td>340.96</td>\n",
       "      <td>A</td>\n",
       "      <td>A4</td>\n",
       "      <td>46854.0</td>\n",
       "      <td>10+ years</td>\n",
       "      <td>1</td>\n",
       "      <td>...</td>\n",
       "      <td>16.0</td>\n",
       "      <td>4.0</td>\n",
       "      <td>7.0</td>\n",
       "      <td>21.0</td>\n",
       "      <td>6.0</td>\n",
       "      <td>9.0</td>\n",
       "      <td>0.0</td>\n",
       "      <td>0.0</td>\n",
       "      <td>0.0</td>\n",
       "      <td>1.0</td>\n",
       "    </tr>\n",
       "    <tr>\n",
       "      <th>4</th>\n",
       "      <td>4</td>\n",
       "      <td>3000.0</td>\n",
       "      <td>3</td>\n",
       "      <td>12.99</td>\n",
       "      <td>101.07</td>\n",
       "      <td>C</td>\n",
       "      <td>C2</td>\n",
       "      <td>54.0</td>\n",
       "      <td>NaN</td>\n",
       "      <td>1</td>\n",
       "      <td>...</td>\n",
       "      <td>4.0</td>\n",
       "      <td>9.0</td>\n",
       "      <td>10.0</td>\n",
       "      <td>15.0</td>\n",
       "      <td>7.0</td>\n",
       "      <td>12.0</td>\n",
       "      <td>0.0</td>\n",
       "      <td>0.0</td>\n",
       "      <td>0.0</td>\n",
       "      <td>4.0</td>\n",
       "    </tr>\n",
       "  </tbody>\n",
       "</table>\n",
       "<p>5 rows × 47 columns</p>\n",
       "</div>"
      ],
      "text/plain": [
       "   id  loanAmnt  term  interestRate  installment grade subGrade  \\\n",
       "0   0   35000.0     5         19.52       917.97     E       E2   \n",
       "1   1   18000.0     5         18.49       461.90     D       D2   \n",
       "2   2   12000.0     5         16.99       298.17     D       D3   \n",
       "3   3   11000.0     3          7.26       340.96     A       A4   \n",
       "4   4    3000.0     3         12.99       101.07     C       C2   \n",
       "\n",
       "   employmentTitle employmentLength  homeOwnership  ...    n5    n6    n7  \\\n",
       "0            320.0          2 years              2  ...   9.0   8.0   4.0   \n",
       "1         219843.0          5 years              0  ...   NaN   NaN   NaN   \n",
       "2          31698.0          8 years              0  ...   0.0  21.0   4.0   \n",
       "3          46854.0        10+ years              1  ...  16.0   4.0   7.0   \n",
       "4             54.0              NaN              1  ...   4.0   9.0  10.0   \n",
       "\n",
       "     n8   n9   n10  n11  n12  n13  n14  \n",
       "0  12.0  2.0   7.0  0.0  0.0  0.0  2.0  \n",
       "1   NaN  NaN  13.0  NaN  NaN  NaN  NaN  \n",
       "2   5.0  3.0  11.0  0.0  0.0  0.0  4.0  \n",
       "3  21.0  6.0   9.0  0.0  0.0  0.0  1.0  \n",
       "4  15.0  7.0  12.0  0.0  0.0  0.0  4.0  \n",
       "\n",
       "[5 rows x 47 columns]"
      ]
     },
     "execution_count": 7,
     "metadata": {},
     "output_type": "execute_result"
    }
   ],
   "source": [
    "train.head()"
   ]
  },
  {
   "cell_type": "code",
   "execution_count": 8,
   "metadata": {},
   "outputs": [
    {
     "data": {
      "text/html": [
       "<div>\n",
       "<style scoped>\n",
       "    .dataframe tbody tr th:only-of-type {\n",
       "        vertical-align: middle;\n",
       "    }\n",
       "\n",
       "    .dataframe tbody tr th {\n",
       "        vertical-align: top;\n",
       "    }\n",
       "\n",
       "    .dataframe thead th {\n",
       "        text-align: right;\n",
       "    }\n",
       "</style>\n",
       "<table border=\"1\" class=\"dataframe\">\n",
       "  <thead>\n",
       "    <tr style=\"text-align: right;\">\n",
       "      <th></th>\n",
       "      <th>id</th>\n",
       "      <th>loanAmnt</th>\n",
       "      <th>term</th>\n",
       "      <th>interestRate</th>\n",
       "      <th>installment</th>\n",
       "      <th>grade</th>\n",
       "      <th>subGrade</th>\n",
       "      <th>employmentTitle</th>\n",
       "      <th>employmentLength</th>\n",
       "      <th>homeOwnership</th>\n",
       "      <th>...</th>\n",
       "      <th>n5</th>\n",
       "      <th>n6</th>\n",
       "      <th>n7</th>\n",
       "      <th>n8</th>\n",
       "      <th>n9</th>\n",
       "      <th>n10</th>\n",
       "      <th>n11</th>\n",
       "      <th>n12</th>\n",
       "      <th>n13</th>\n",
       "      <th>n14</th>\n",
       "    </tr>\n",
       "  </thead>\n",
       "  <tbody>\n",
       "    <tr>\n",
       "      <th>0</th>\n",
       "      <td>800000</td>\n",
       "      <td>14000.0</td>\n",
       "      <td>3</td>\n",
       "      <td>10.99</td>\n",
       "      <td>458.28</td>\n",
       "      <td>B</td>\n",
       "      <td>B3</td>\n",
       "      <td>7027.0</td>\n",
       "      <td>10+ years</td>\n",
       "      <td>0</td>\n",
       "      <td>...</td>\n",
       "      <td>8.0</td>\n",
       "      <td>4.0</td>\n",
       "      <td>15.0</td>\n",
       "      <td>19.0</td>\n",
       "      <td>6.0</td>\n",
       "      <td>17.0</td>\n",
       "      <td>0.0</td>\n",
       "      <td>0.0</td>\n",
       "      <td>1.0</td>\n",
       "      <td>3.0</td>\n",
       "    </tr>\n",
       "    <tr>\n",
       "      <th>1</th>\n",
       "      <td>800001</td>\n",
       "      <td>20000.0</td>\n",
       "      <td>5</td>\n",
       "      <td>14.65</td>\n",
       "      <td>472.14</td>\n",
       "      <td>C</td>\n",
       "      <td>C5</td>\n",
       "      <td>60426.0</td>\n",
       "      <td>10+ years</td>\n",
       "      <td>0</td>\n",
       "      <td>...</td>\n",
       "      <td>1.0</td>\n",
       "      <td>3.0</td>\n",
       "      <td>3.0</td>\n",
       "      <td>9.0</td>\n",
       "      <td>3.0</td>\n",
       "      <td>5.0</td>\n",
       "      <td>0.0</td>\n",
       "      <td>0.0</td>\n",
       "      <td>2.0</td>\n",
       "      <td>2.0</td>\n",
       "    </tr>\n",
       "    <tr>\n",
       "      <th>2</th>\n",
       "      <td>800002</td>\n",
       "      <td>12000.0</td>\n",
       "      <td>3</td>\n",
       "      <td>19.99</td>\n",
       "      <td>445.91</td>\n",
       "      <td>D</td>\n",
       "      <td>D4</td>\n",
       "      <td>23547.0</td>\n",
       "      <td>2 years</td>\n",
       "      <td>1</td>\n",
       "      <td>...</td>\n",
       "      <td>1.0</td>\n",
       "      <td>36.0</td>\n",
       "      <td>5.0</td>\n",
       "      <td>6.0</td>\n",
       "      <td>4.0</td>\n",
       "      <td>12.0</td>\n",
       "      <td>0.0</td>\n",
       "      <td>0.0</td>\n",
       "      <td>0.0</td>\n",
       "      <td>7.0</td>\n",
       "    </tr>\n",
       "    <tr>\n",
       "      <th>3</th>\n",
       "      <td>800003</td>\n",
       "      <td>17500.0</td>\n",
       "      <td>5</td>\n",
       "      <td>14.31</td>\n",
       "      <td>410.02</td>\n",
       "      <td>C</td>\n",
       "      <td>C4</td>\n",
       "      <td>636.0</td>\n",
       "      <td>4 years</td>\n",
       "      <td>0</td>\n",
       "      <td>...</td>\n",
       "      <td>7.0</td>\n",
       "      <td>2.0</td>\n",
       "      <td>8.0</td>\n",
       "      <td>14.0</td>\n",
       "      <td>2.0</td>\n",
       "      <td>10.0</td>\n",
       "      <td>0.0</td>\n",
       "      <td>0.0</td>\n",
       "      <td>0.0</td>\n",
       "      <td>3.0</td>\n",
       "    </tr>\n",
       "    <tr>\n",
       "      <th>4</th>\n",
       "      <td>800004</td>\n",
       "      <td>35000.0</td>\n",
       "      <td>3</td>\n",
       "      <td>17.09</td>\n",
       "      <td>1249.42</td>\n",
       "      <td>D</td>\n",
       "      <td>D1</td>\n",
       "      <td>368446.0</td>\n",
       "      <td>&lt; 1 year</td>\n",
       "      <td>1</td>\n",
       "      <td>...</td>\n",
       "      <td>11.0</td>\n",
       "      <td>3.0</td>\n",
       "      <td>16.0</td>\n",
       "      <td>18.0</td>\n",
       "      <td>11.0</td>\n",
       "      <td>19.0</td>\n",
       "      <td>0.0</td>\n",
       "      <td>0.0</td>\n",
       "      <td>0.0</td>\n",
       "      <td>1.0</td>\n",
       "    </tr>\n",
       "  </tbody>\n",
       "</table>\n",
       "<p>5 rows × 46 columns</p>\n",
       "</div>"
      ],
      "text/plain": [
       "       id  loanAmnt  term  interestRate  installment grade subGrade  \\\n",
       "0  800000   14000.0     3         10.99       458.28     B       B3   \n",
       "1  800001   20000.0     5         14.65       472.14     C       C5   \n",
       "2  800002   12000.0     3         19.99       445.91     D       D4   \n",
       "3  800003   17500.0     5         14.31       410.02     C       C4   \n",
       "4  800004   35000.0     3         17.09      1249.42     D       D1   \n",
       "\n",
       "   employmentTitle employmentLength  homeOwnership  ...    n5    n6    n7  \\\n",
       "0           7027.0        10+ years              0  ...   8.0   4.0  15.0   \n",
       "1          60426.0        10+ years              0  ...   1.0   3.0   3.0   \n",
       "2          23547.0          2 years              1  ...   1.0  36.0   5.0   \n",
       "3            636.0          4 years              0  ...   7.0   2.0   8.0   \n",
       "4         368446.0         < 1 year              1  ...  11.0   3.0  16.0   \n",
       "\n",
       "     n8    n9   n10  n11  n12  n13  n14  \n",
       "0  19.0   6.0  17.0  0.0  0.0  1.0  3.0  \n",
       "1   9.0   3.0   5.0  0.0  0.0  2.0  2.0  \n",
       "2   6.0   4.0  12.0  0.0  0.0  0.0  7.0  \n",
       "3  14.0   2.0  10.0  0.0  0.0  0.0  3.0  \n",
       "4  18.0  11.0  19.0  0.0  0.0  0.0  1.0  \n",
       "\n",
       "[5 rows x 46 columns]"
      ]
     },
     "execution_count": 8,
     "metadata": {},
     "output_type": "execute_result"
    }
   ],
   "source": [
    "test.head()"
   ]
  },
  {
   "cell_type": "code",
   "execution_count": 9,
   "metadata": {},
   "outputs": [
    {
     "data": {
      "text/plain": [
       "Index(['id', 'loanAmnt', 'term', 'interestRate', 'installment', 'grade',\n",
       "       'subGrade', 'employmentTitle', 'employmentLength', 'homeOwnership',\n",
       "       'annualIncome', 'verificationStatus', 'issueDate', 'isDefault',\n",
       "       'purpose', 'postCode', 'regionCode', 'dti', 'delinquency_2years',\n",
       "       'ficoRangeLow', 'ficoRangeHigh', 'openAcc', 'pubRec',\n",
       "       'pubRecBankruptcies', 'revolBal', 'revolUtil', 'totalAcc',\n",
       "       'initialListStatus', 'applicationType', 'earliesCreditLine', 'title',\n",
       "       'policyCode', 'n0', 'n1', 'n2', 'n3', 'n4', 'n5', 'n6', 'n7', 'n8',\n",
       "       'n9', 'n10', 'n11', 'n12', 'n13', 'n14'],\n",
       "      dtype='object')"
      ]
     },
     "execution_count": 9,
     "metadata": {},
     "output_type": "execute_result"
    }
   ],
   "source": [
    "train.columns"
   ]
  },
  {
   "cell_type": "code",
   "execution_count": 10,
   "metadata": {},
   "outputs": [
    {
     "data": {
      "text/plain": [
       "Index(['id', 'loanAmnt', 'term', 'interestRate', 'installment', 'grade',\n",
       "       'subGrade', 'employmentTitle', 'employmentLength', 'homeOwnership',\n",
       "       'annualIncome', 'verificationStatus', 'issueDate', 'purpose',\n",
       "       'postCode', 'regionCode', 'dti', 'delinquency_2years', 'ficoRangeLow',\n",
       "       'ficoRangeHigh', 'openAcc', 'pubRec', 'pubRecBankruptcies', 'revolBal',\n",
       "       'revolUtil', 'totalAcc', 'initialListStatus', 'applicationType',\n",
       "       'earliesCreditLine', 'title', 'policyCode', 'n0', 'n1', 'n2', 'n3',\n",
       "       'n4', 'n5', 'n6', 'n7', 'n8', 'n9', 'n10', 'n11', 'n12', 'n13', 'n14'],\n",
       "      dtype='object')"
      ]
     },
     "execution_count": 10,
     "metadata": {},
     "output_type": "execute_result"
    }
   ],
   "source": [
    "test.columns"
   ]
  },
  {
   "cell_type": "code",
   "execution_count": 11,
   "metadata": {},
   "outputs": [
    {
     "name": "stdout",
     "output_type": "stream",
     "text": [
      "<class 'pandas.core.frame.DataFrame'>\n",
      "RangeIndex: 800000 entries, 0 to 799999\n",
      "Data columns (total 47 columns):\n",
      " #   Column              Non-Null Count   Dtype  \n",
      "---  ------              --------------   -----  \n",
      " 0   id                  800000 non-null  int64  \n",
      " 1   loanAmnt            800000 non-null  float64\n",
      " 2   term                800000 non-null  int64  \n",
      " 3   interestRate        800000 non-null  float64\n",
      " 4   installment         800000 non-null  float64\n",
      " 5   grade               800000 non-null  object \n",
      " 6   subGrade            800000 non-null  object \n",
      " 7   employmentTitle     799999 non-null  float64\n",
      " 8   employmentLength    753201 non-null  object \n",
      " 9   homeOwnership       800000 non-null  int64  \n",
      " 10  annualIncome        800000 non-null  float64\n",
      " 11  verificationStatus  800000 non-null  int64  \n",
      " 12  issueDate           800000 non-null  object \n",
      " 13  isDefault           800000 non-null  int64  \n",
      " 14  purpose             800000 non-null  int64  \n",
      " 15  postCode            799999 non-null  float64\n",
      " 16  regionCode          800000 non-null  int64  \n",
      " 17  dti                 799761 non-null  float64\n",
      " 18  delinquency_2years  800000 non-null  float64\n",
      " 19  ficoRangeLow        800000 non-null  float64\n",
      " 20  ficoRangeHigh       800000 non-null  float64\n",
      " 21  openAcc             800000 non-null  float64\n",
      " 22  pubRec              800000 non-null  float64\n",
      " 23  pubRecBankruptcies  799595 non-null  float64\n",
      " 24  revolBal            800000 non-null  float64\n",
      " 25  revolUtil           799469 non-null  float64\n",
      " 26  totalAcc            800000 non-null  float64\n",
      " 27  initialListStatus   800000 non-null  int64  \n",
      " 28  applicationType     800000 non-null  int64  \n",
      " 29  earliesCreditLine   800000 non-null  object \n",
      " 30  title               799999 non-null  float64\n",
      " 31  policyCode          800000 non-null  float64\n",
      " 32  n0                  759730 non-null  float64\n",
      " 33  n1                  759730 non-null  float64\n",
      " 34  n2                  759730 non-null  float64\n",
      " 35  n3                  759730 non-null  float64\n",
      " 36  n4                  766761 non-null  float64\n",
      " 37  n5                  759730 non-null  float64\n",
      " 38  n6                  759730 non-null  float64\n",
      " 39  n7                  759730 non-null  float64\n",
      " 40  n8                  759729 non-null  float64\n",
      " 41  n9                  759730 non-null  float64\n",
      " 42  n10                 766761 non-null  float64\n",
      " 43  n11                 730248 non-null  float64\n",
      " 44  n12                 759730 non-null  float64\n",
      " 45  n13                 759730 non-null  float64\n",
      " 46  n14                 759730 non-null  float64\n",
      "dtypes: float64(33), int64(9), object(5)\n",
      "memory usage: 286.9+ MB\n"
     ]
    }
   ],
   "source": [
    "train.info()"
   ]
  },
  {
   "cell_type": "code",
   "execution_count": 12,
   "metadata": {},
   "outputs": [],
   "source": [
    "numerical_cols = list(train.select_dtypes(exclude=['object']).columns)\n",
    "numerical_cols.remove('isDefault')"
   ]
  },
  {
   "cell_type": "code",
   "execution_count": 13,
   "metadata": {},
   "outputs": [],
   "source": [
    "object_cols = list(train.select_dtypes(include=['object']).columns)"
   ]
  },
  {
   "cell_type": "code",
   "execution_count": 14,
   "metadata": {},
   "outputs": [
    {
     "data": {
      "text/plain": [
       "46"
      ]
     },
     "execution_count": 14,
     "metadata": {},
     "output_type": "execute_result"
    }
   ],
   "source": [
    "len(numerical_cols)+len(object_cols)"
   ]
  },
  {
   "cell_type": "markdown",
   "metadata": {},
   "source": [
    "## 1.1 object类型处理"
   ]
  },
  {
   "cell_type": "markdown",
   "metadata": {},
   "source": [
    "在这里对一些object类型特征进行一些针对性处理。例如成绩，日期等。\n",
    "\n",
    "对于成绩，有相对顺序，可以依据专家知识将其转换为数值型特征。\n",
    "\n",
    "对于日期，可以将object类型的数据拆解为年、月、日，同时可以增加距离当前的时间间隔。"
   ]
  },
  {
   "cell_type": "markdown",
   "metadata": {},
   "source": [
    "### grade & subGrade"
   ]
  },
  {
   "cell_type": "code",
   "execution_count": 15,
   "metadata": {},
   "outputs": [
    {
     "data": {
      "text/plain": [
       "A    139661\n",
       "B    233690\n",
       "C    227118\n",
       "D    119453\n",
       "E     55661\n",
       "F     19053\n",
       "G      5364\n",
       "Name: grade, dtype: int64"
      ]
     },
     "execution_count": 15,
     "metadata": {},
     "output_type": "execute_result"
    }
   ],
   "source": [
    "train['grade'].value_counts(dropna=False).sort_index()"
   ]
  },
  {
   "cell_type": "code",
   "execution_count": 16,
   "metadata": {},
   "outputs": [
    {
     "data": {
      "text/plain": [
       "A1    25909\n",
       "A2    22124\n",
       "A3    22655\n",
       "A4    30928\n",
       "A5    38045\n",
       "B1    42382\n",
       "B2    44227\n",
       "B3    48600\n",
       "B4    49516\n",
       "B5    48965\n",
       "C1    50763\n",
       "C2    47068\n",
       "C3    44751\n",
       "C4    44272\n",
       "C5    40264\n",
       "D1    30538\n",
       "D2    26528\n",
       "D3    23410\n",
       "D4    21139\n",
       "D5    17838\n",
       "E1    14064\n",
       "E2    12746\n",
       "E3    10925\n",
       "E4     9273\n",
       "E5     8653\n",
       "F1     5925\n",
       "F2     4340\n",
       "F3     3577\n",
       "F4     2859\n",
       "F5     2352\n",
       "G1     1759\n",
       "G2     1231\n",
       "G3      978\n",
       "G4      751\n",
       "G5      645\n",
       "Name: subGrade, dtype: int64"
      ]
     },
     "execution_count": 16,
     "metadata": {},
     "output_type": "execute_result"
    }
   ],
   "source": [
    "train['subGrade'].value_counts(dropna=False).sort_index()"
   ]
  },
  {
   "cell_type": "code",
   "execution_count": 17,
   "metadata": {},
   "outputs": [],
   "source": [
    "def grade_trans(x):\n",
    "    grade_map = {'A':1,'B':2,'C':3,'D':4,'E':5,'F':6,'G':7}\n",
    "    return grade_map[x]\n",
    "\n",
    "def subGrade_trans(x):\n",
    "    return grade_trans(x[0])*5 + int(x[1])\n",
    "\n",
    "for d in [train, test]:\n",
    "    d['grade'] = d['grade'].apply(lambda x: grade_trans(x))\n",
    "    d['subGrade'] = d['subGrade'].apply(lambda x: subGrade_trans(x))"
   ]
  },
  {
   "cell_type": "markdown",
   "metadata": {},
   "source": [
    "### employmentLength"
   ]
  },
  {
   "cell_type": "code",
   "execution_count": 18,
   "metadata": {},
   "outputs": [
    {
     "data": {
      "text/plain": [
       "1 year        52489\n",
       "10+ years    262753\n",
       "2 years       72358\n",
       "3 years       64152\n",
       "4 years       47985\n",
       "5 years       50102\n",
       "6 years       37254\n",
       "7 years       35407\n",
       "8 years       36192\n",
       "9 years       30272\n",
       "< 1 year      64237\n",
       "NaN           46799\n",
       "Name: employmentLength, dtype: int64"
      ]
     },
     "execution_count": 18,
     "metadata": {},
     "output_type": "execute_result"
    }
   ],
   "source": [
    "train['employmentLength'].value_counts(dropna=False).sort_index()"
   ]
  },
  {
   "cell_type": "code",
   "execution_count": 19,
   "metadata": {},
   "outputs": [],
   "source": [
    "def employmentLength_trans(x):\n",
    "    if pd.isnull(x):\n",
    "        return x\n",
    "    elif x == '< 1 year':\n",
    "        return 0.5\n",
    "    elif x == '10+ years':\n",
    "        return 10\n",
    "    else:\n",
    "        return int(x.split()[0])"
   ]
  },
  {
   "cell_type": "code",
   "execution_count": 20,
   "metadata": {},
   "outputs": [],
   "source": [
    "for d in [train, test]:\n",
    "    d['employmentLength'] = d['employmentLength'].apply(lambda x: employmentLength_trans(x))"
   ]
  },
  {
   "cell_type": "markdown",
   "metadata": {},
   "source": [
    "### issueDate"
   ]
  },
  {
   "cell_type": "code",
   "execution_count": 21,
   "metadata": {},
   "outputs": [],
   "source": [
    "import datetime"
   ]
  },
  {
   "cell_type": "code",
   "execution_count": 22,
   "metadata": {},
   "outputs": [
    {
     "data": {
      "text/plain": [
       "0         2014-07-01\n",
       "1         2012-08-01\n",
       "2         2015-10-01\n",
       "3         2015-08-01\n",
       "4         2016-03-01\n",
       "             ...    \n",
       "799995    2016-07-01\n",
       "799996    2013-04-01\n",
       "799997    2015-10-01\n",
       "799998    2015-02-01\n",
       "799999    2018-08-01\n",
       "Name: issueDate, Length: 800000, dtype: object"
      ]
     },
     "execution_count": 22,
     "metadata": {},
     "output_type": "execute_result"
    }
   ],
   "source": [
    "train['issueDate']"
   ]
  },
  {
   "cell_type": "code",
   "execution_count": 23,
   "metadata": {},
   "outputs": [],
   "source": [
    "startdate = datetime.datetime.strptime(str(train['issueDate'].min()), '%Y-%m-%d')"
   ]
  },
  {
   "cell_type": "code",
   "execution_count": 24,
   "metadata": {},
   "outputs": [],
   "source": [
    "def interval_trans(x):\n",
    "    enddate = datetime.datetime.strptime(x, '%Y-%m-%d')\n",
    "    return (enddate-startdate).days"
   ]
  },
  {
   "cell_type": "code",
   "execution_count": 25,
   "metadata": {},
   "outputs": [],
   "source": [
    "for d in [train, test]:\n",
    "    d['issueDate_year'] = d['issueDate'].apply(lambda x: int(x.split('-')[0]))\n",
    "    d['issueDate_month'] = d['issueDate'].apply(lambda x: int(x.split('-')[1]))\n",
    "    d['interval'] = d['issueDate'].apply(lambda x: interval_trans(x))\n",
    "    del d['issueDate']"
   ]
  },
  {
   "cell_type": "markdown",
   "metadata": {},
   "source": [
    "### earliesCreditLine"
   ]
  },
  {
   "cell_type": "code",
   "execution_count": 26,
   "metadata": {},
   "outputs": [
    {
     "data": {
      "text/plain": [
       "0         Aug-2001\n",
       "1         May-2002\n",
       "2         May-2006\n",
       "3         May-1999\n",
       "4         Aug-1977\n",
       "            ...   \n",
       "799995    Aug-2011\n",
       "799996    May-1989\n",
       "799997    Jul-2002\n",
       "799998    Jan-1994\n",
       "799999    Feb-2002\n",
       "Name: earliesCreditLine, Length: 800000, dtype: object"
      ]
     },
     "execution_count": 26,
     "metadata": {},
     "output_type": "execute_result"
    }
   ],
   "source": [
    "train['earliesCreditLine']"
   ]
  },
  {
   "cell_type": "code",
   "execution_count": 27,
   "metadata": {},
   "outputs": [
    {
     "data": {
      "text/plain": [
       "'Sep-2015'"
      ]
     },
     "execution_count": 27,
     "metadata": {},
     "output_type": "execute_result"
    }
   ],
   "source": [
    "train['earliesCreditLine'].max()"
   ]
  },
  {
   "cell_type": "code",
   "execution_count": 28,
   "metadata": {},
   "outputs": [],
   "source": [
    "def earliesCreditLine_month_trans(x):\n",
    "    month_map = {'Jan': 1, 'Feb': 2, 'Mar': 3, 'Apr': 4, 'May': 5, 'Jun': 6, 'Jul': 7, 'Aug': 8, 'Sep': 9, 'Oct': 10, 'Nov': 11, 'Dec': 12}\n",
    "    return month_map[x.split('-')[0]]\n",
    "\n",
    "for d in [train, test]:\n",
    "    d['earliesCreditLine_year'] = d['earliesCreditLine'].apply(lambda x: 2015 - (int(x.split('-')[-1])))\n",
    "    d['earliesCreditLine_month'] = d['earliesCreditLine'].apply(lambda x: earliesCreditLine_month_trans(x))\n",
    "    del d['earliesCreditLine']"
   ]
  },
  {
   "cell_type": "markdown",
   "metadata": {},
   "source": [
    "## 1.2 缺失值填充"
   ]
  },
  {
   "cell_type": "markdown",
   "metadata": {},
   "source": [
    "对于类别型特征，利用众数填充缺失值；对于数值型特征，利用中位数填充缺失值。"
   ]
  },
  {
   "cell_type": "code",
   "execution_count": 29,
   "metadata": {},
   "outputs": [
    {
     "name": "stdout",
     "output_type": "stream",
     "text": [
      "<class 'pandas.core.frame.DataFrame'>\n",
      "RangeIndex: 800000 entries, 0 to 799999\n",
      "Data columns (total 50 columns):\n",
      " #   Column                   Non-Null Count   Dtype  \n",
      "---  ------                   --------------   -----  \n",
      " 0   id                       800000 non-null  int64  \n",
      " 1   loanAmnt                 800000 non-null  float64\n",
      " 2   term                     800000 non-null  int64  \n",
      " 3   interestRate             800000 non-null  float64\n",
      " 4   installment              800000 non-null  float64\n",
      " 5   grade                    800000 non-null  int64  \n",
      " 6   subGrade                 800000 non-null  int64  \n",
      " 7   employmentTitle          799999 non-null  float64\n",
      " 8   employmentLength         753201 non-null  float64\n",
      " 9   homeOwnership            800000 non-null  int64  \n",
      " 10  annualIncome             800000 non-null  float64\n",
      " 11  verificationStatus       800000 non-null  int64  \n",
      " 12  isDefault                800000 non-null  int64  \n",
      " 13  purpose                  800000 non-null  int64  \n",
      " 14  postCode                 799999 non-null  float64\n",
      " 15  regionCode               800000 non-null  int64  \n",
      " 16  dti                      799761 non-null  float64\n",
      " 17  delinquency_2years       800000 non-null  float64\n",
      " 18  ficoRangeLow             800000 non-null  float64\n",
      " 19  ficoRangeHigh            800000 non-null  float64\n",
      " 20  openAcc                  800000 non-null  float64\n",
      " 21  pubRec                   800000 non-null  float64\n",
      " 22  pubRecBankruptcies       799595 non-null  float64\n",
      " 23  revolBal                 800000 non-null  float64\n",
      " 24  revolUtil                799469 non-null  float64\n",
      " 25  totalAcc                 800000 non-null  float64\n",
      " 26  initialListStatus        800000 non-null  int64  \n",
      " 27  applicationType          800000 non-null  int64  \n",
      " 28  title                    799999 non-null  float64\n",
      " 29  policyCode               800000 non-null  float64\n",
      " 30  n0                       759730 non-null  float64\n",
      " 31  n1                       759730 non-null  float64\n",
      " 32  n2                       759730 non-null  float64\n",
      " 33  n3                       759730 non-null  float64\n",
      " 34  n4                       766761 non-null  float64\n",
      " 35  n5                       759730 non-null  float64\n",
      " 36  n6                       759730 non-null  float64\n",
      " 37  n7                       759730 non-null  float64\n",
      " 38  n8                       759729 non-null  float64\n",
      " 39  n9                       759730 non-null  float64\n",
      " 40  n10                      766761 non-null  float64\n",
      " 41  n11                      730248 non-null  float64\n",
      " 42  n12                      759730 non-null  float64\n",
      " 43  n13                      759730 non-null  float64\n",
      " 44  n14                      759730 non-null  float64\n",
      " 45  issueDate_year           800000 non-null  int64  \n",
      " 46  issueDate_month          800000 non-null  int64  \n",
      " 47  interval                 800000 non-null  int64  \n",
      " 48  earliesCreditLine_year   800000 non-null  int64  \n",
      " 49  earliesCreditLine_month  800000 non-null  int64  \n",
      "dtypes: float64(34), int64(16)\n",
      "memory usage: 305.2 MB\n"
     ]
    }
   ],
   "source": [
    "train.info()"
   ]
  },
  {
   "cell_type": "code",
   "execution_count": 30,
   "metadata": {},
   "outputs": [],
   "source": [
    "cols = list(train.columns)\n",
    "cols.remove('isDefault')"
   ]
  },
  {
   "cell_type": "code",
   "execution_count": 31,
   "metadata": {},
   "outputs": [],
   "source": [
    "categorical_features = ['grade', 'subGrade', 'employmentTitle', 'homeOwnership', 'verificationStatus', 'purpose', 'postCode', 'regionCode', 'applicationType', 'initialListStatus', 'title', 'policyCode']"
   ]
  },
  {
   "cell_type": "code",
   "execution_count": 32,
   "metadata": {},
   "outputs": [],
   "source": [
    "numerical_features = list(set(cols)-set(categorical_features))"
   ]
  },
  {
   "cell_type": "code",
   "execution_count": 33,
   "metadata": {},
   "outputs": [],
   "source": [
    "train[numerical_features] = train[numerical_features].fillna(train[numerical_features].median())\n",
    "test[numerical_features] = test[numerical_features].fillna(train[numerical_features].median())\n",
    "for fea in categorical_features:\n",
    "    train[fea] = train[fea].fillna(train[fea].mode().values[0])\n",
    "    test[fea] = test[fea].fillna(train[fea].mode().values[0])"
   ]
  },
  {
   "cell_type": "code",
   "execution_count": 34,
   "metadata": {},
   "outputs": [
    {
     "data": {
      "text/plain": [
       "id                         0\n",
       "loanAmnt                   0\n",
       "term                       0\n",
       "interestRate               0\n",
       "installment                0\n",
       "grade                      0\n",
       "subGrade                   0\n",
       "employmentTitle            0\n",
       "employmentLength           0\n",
       "homeOwnership              0\n",
       "annualIncome               0\n",
       "verificationStatus         0\n",
       "purpose                    0\n",
       "postCode                   0\n",
       "regionCode                 0\n",
       "dti                        0\n",
       "delinquency_2years         0\n",
       "ficoRangeLow               0\n",
       "ficoRangeHigh              0\n",
       "openAcc                    0\n",
       "pubRec                     0\n",
       "pubRecBankruptcies         0\n",
       "revolBal                   0\n",
       "revolUtil                  0\n",
       "totalAcc                   0\n",
       "initialListStatus          0\n",
       "applicationType            0\n",
       "title                      0\n",
       "policyCode                 0\n",
       "n0                         0\n",
       "n1                         0\n",
       "n2                         0\n",
       "n3                         0\n",
       "n4                         0\n",
       "n5                         0\n",
       "n6                         0\n",
       "n7                         0\n",
       "n8                         0\n",
       "n9                         0\n",
       "n10                        0\n",
       "n11                        0\n",
       "n12                        0\n",
       "n13                        0\n",
       "n14                        0\n",
       "issueDate_year             0\n",
       "issueDate_month            0\n",
       "interval                   0\n",
       "earliesCreditLine_year     0\n",
       "earliesCreditLine_month    0\n",
       "dtype: int64"
      ]
     },
     "execution_count": 34,
     "metadata": {},
     "output_type": "execute_result"
    }
   ],
   "source": [
    "train.isnull().sum()\n",
    "test.isnull().sum()"
   ]
  },
  {
   "cell_type": "markdown",
   "metadata": {},
   "source": [
    "## 1.3特征编码"
   ]
  },
  {
   "cell_type": "markdown",
   "metadata": {},
   "source": [
    "在类别型特征的处理中，我们可以将类别型特征分为以下两种：\n",
    "* 存在内在顺序\n",
    "* 不存在内在顺序\n",
    "\n",
    "对于存在内在顺序的特征，可以人为依据含义进行编码，将object类型转为numerical类型。例如上文中的grade和subGrade。\n",
    "\n",
    "对于不存在内在顺序的特征，可以按特征维度，对高纬特征进行label encoding/target encoding，对低纬特征进行onehot encoding。\n",
    "之所以不对高维特征进行onehot encoding，是为了防止编码之后特征空间过大，影响模型训练。\n",
    "\n",
    "此外，还有一种方式可以考虑讲类别型特征（无论高维低维）均经过onehot encoding，然后利用神经网络进行稠密编码（降维）获取embedding，然后用于下游的模型中。"
   ]
  },
  {
   "cell_type": "markdown",
   "metadata": {},
   "source": [
    "### onehot encoding"
   ]
  },
  {
   "cell_type": "code",
   "execution_count": 35,
   "metadata": {},
   "outputs": [],
   "source": [
    "categorical_features = ['grade', 'subGrade', 'employmentTitle', 'homeOwnership', 'verificationStatus', 'purpose', 'postCode', 'regionCode', 'applicationType', 'initialListStatus', 'title', 'policyCode']"
   ]
  },
  {
   "cell_type": "code",
   "execution_count": 36,
   "metadata": {},
   "outputs": [
    {
     "name": "stdout",
     "output_type": "stream",
     "text": [
      "grade 7\n",
      "subGrade 35\n",
      "employmentTitle 248683\n",
      "homeOwnership 6\n",
      "verificationStatus 3\n",
      "purpose 14\n",
      "postCode 932\n",
      "regionCode 51\n",
      "applicationType 2\n",
      "initialListStatus 2\n",
      "title 39644\n",
      "policyCode 1\n"
     ]
    }
   ],
   "source": [
    "for fea in categorical_features:\n",
    "    print(fea, train[fea].nunique())"
   ]
  },
  {
   "cell_type": "code",
   "execution_count": 37,
   "metadata": {},
   "outputs": [],
   "source": [
    "for d in [train, test]:\n",
    "    d = pd.get_dummies(d, columns=['homeOwnership', 'verificationStatus', 'purpose', 'regionCode'], drop_first=True)"
   ]
  },
  {
   "cell_type": "markdown",
   "metadata": {},
   "source": [
    "### label encode"
   ]
  },
  {
   "cell_type": "code",
   "execution_count": 38,
   "metadata": {},
   "outputs": [],
   "source": [
    "from sklearn.preprocessing import LabelEncoder"
   ]
  },
  {
   "cell_type": "code",
   "execution_count": 39,
   "metadata": {},
   "outputs": [],
   "source": [
    "for col in ['employmentTitle', 'postCode', 'title']:\n",
    "    le = LabelEncoder()\n",
    "    le.fit(list(train[col].astype(str).values) + list(test[col].astype(str).values))\n",
    "    train[col] = le.transform(list(train[col].astype(str).values))\n",
    "    test[col] = le.transform(list(test[col].astype(str).values))"
   ]
  },
  {
   "cell_type": "code",
   "execution_count": null,
   "metadata": {},
   "outputs": [],
   "source": []
  },
  {
   "cell_type": "markdown",
   "metadata": {},
   "source": [
    "# 模型训练"
   ]
  },
  {
   "cell_type": "markdown",
   "metadata": {},
   "source": [
    "模型训练，即基于处理后的数据用于模型的生成，同时对目标数据进行预测。\n",
    "\n",
    "在模型训练中一般采用cross validation的方式，即将数据分为train set和valid set，多次划分，进行多轮的训练。这样做的好处一是可以进行离线的模型效果评估，二是得到更为稳定的模型。\n",
    "\n",
    "在这里我们用到的模型包括：\n",
    "* logistic regression：是广义线性模型的一种，能够处理数值和离散型特征，具有简单、易解释、易实现等特点。\n",
    "* svm：是一种二分类模型，其基本思想是在特征空间中寻找最优的超平面，使得不同类别的样本点之间的间隔最大化。SVM 通过将数据转化到高维空间，并使用核函数来解决非线性分类问题。\n",
    "* xgboost：是一种基于GBDT（Gradient Boosting Decision Tree）的机器学习框架。xgboost基于二阶泰勒展开，并对特征进行预排序和buffer的预存储。\n",
    "* lightgbm：是一种基于GBDT（Gradient Boosting Decision Tree）的机器学习框架。在xgboost的基础上实现了精度，效率和功能上的提升。基于直方图算法。\n",
    "* MLP（neural network）：Multilayer Perceptron是一种最基本的前馈神经网络，一般包含输入层，隐藏层，输出层。MLP通过每层的非线性映射，将输入数据映射到高维的隐空间，在隐空间进行计算后，再将结果映射回输出空间，给出预测结果。"
   ]
  },
  {
   "cell_type": "code",
   "execution_count": 40,
   "metadata": {},
   "outputs": [],
   "source": [
    "import xgboost as xgb\n",
    "import lightgbm as lgb\n",
    "from sklearn import svm\n",
    "from sklearn.svm import LinearSVC\n",
    "from sklearn.linear_model import LogisticRegression"
   ]
  },
  {
   "cell_type": "code",
   "execution_count": 41,
   "metadata": {},
   "outputs": [],
   "source": [
    "from sklearn.model_selection import KFold\n",
    "from sklearn.metrics import roc_auc_score"
   ]
  },
  {
   "cell_type": "code",
   "execution_count": 42,
   "metadata": {},
   "outputs": [],
   "source": [
    "import tensorflow as tf\n",
    "class nn(object):\n",
    "    def __init__(self, hidden_size = [32, 4]):\n",
    "        self.layers = []\n",
    "        for size in hidden_size:\n",
    "            self.layers.append(tf.keras.layers.Dense(size, activation=\"relu\"))\n",
    "        \n",
    "        self.output_layer = tf.keras.layers.Dense(1, activation=\"linear\")\n",
    "    \n",
    "    def __call__(self, input_tensor):\n",
    "        x = input_tensor\n",
    "        for layer in self.layers:\n",
    "            x = layer(x)\n",
    "        out = self.output_layer(x)\n",
    "        return out"
   ]
  },
  {
   "cell_type": "code",
   "execution_count": 43,
   "metadata": {},
   "outputs": [],
   "source": [
    "def standardization(mean, std, x):\n",
    "    return (x-mean)/std\n",
    "\n",
    "def cv_model(clf, train_x, train_y, test_x, clf_name):\n",
    "    folds = 3\n",
    "    kf = KFold(n_splits=folds, shuffle=True, random_state=100)\n",
    "\n",
    "    test = np.zeros(test_x.shape[0])\n",
    "\n",
    "    cv_scores = []\n",
    "    \n",
    "    mean_x = pd.concat([train_x, test_x]).mean()\n",
    "    std_x = pd.concat([train_x, test_x]).std()\n",
    "\n",
    "    for i, (train_idx, valid_idx) in enumerate(kf.split(train_x, train_y)):\n",
    "        print('iteration {}'.format(str(i+1)))\n",
    "        train_x_i, train_y_i = train_x.iloc[train_idx], train_y[train_idx]\n",
    "        valid_x_i, valid_y_i = train_x.iloc[valid_idx], train_y[valid_idx]\n",
    "        \n",
    "        \n",
    "        if clf_name == \"lgb\":\n",
    "            train_D = clf.Dataset(train_x_i, label=train_y_i)\n",
    "            valid_D = clf.Dataset(valid_x_i, label=valid_y_i)\n",
    "\n",
    "            params = {\n",
    "                'boosting_type': 'gbdt',\n",
    "                'objective': 'binary',\n",
    "                'metric': 'auc',\n",
    "                'min_child_weight': 5,\n",
    "                'num_leaves': 2 ** 5,\n",
    "                'lambda_l2': 10,\n",
    "                'feature_fraction': 0.8,\n",
    "                'bagging_fraction': 0.8,\n",
    "                'bagging_freq': 4,\n",
    "                'learning_rate': 0.1,\n",
    "                'nthread': 28,\n",
    "                'n_jobs':24,\n",
    "                'verbose': -1,\n",
    "            }\n",
    "\n",
    "            model = clf.train(params, train_D, 50000, valid_sets=[train_D, valid_D], verbose_eval=200,early_stopping_rounds=200)\n",
    "            val_pred = model.predict(valid_x_i, num_iteration=model.best_iteration)\n",
    "            test_pred = model.predict(test_x, num_iteration=model.best_iteration)\n",
    "\n",
    "\n",
    "        if clf_name == 'svm':\n",
    "            for x in [train_x_i, valid_x_i, test_x]:\n",
    "                x.iloc[:] = standardization(mean_x, std_x, x)\n",
    "\n",
    "            # model = clf.SVC(kernel='linear')\n",
    "            model = clf(C=1,dual=False,max_iter=1000,verbose=1,class_weight='balanced')#max_iter=10000\n",
    "            model.fit(train_x_i, train_y_i)\n",
    "            val_pred = model.predict(valid_x_i)\n",
    "            test_pred = model.predict(test_x)\n",
    "        \n",
    "\n",
    "        if clf_name == 'lr':\n",
    "            for x in [train_x_i, valid_x_i, test_x]:\n",
    "                x.iloc[:] = standardization(mean_x, std_x, x)\n",
    "            model = clf(verbose=1,class_weight='balanced')\n",
    "            model.fit(train_x_i, train_y_i)\n",
    "            val_pred = model.predict_proba(valid_x_i)[:,1]\n",
    "            test_pred = model.predict_proba(test_x)[:,1]\n",
    "    \n",
    "\n",
    "        if clf_name == 'nn':\n",
    "            for x in [train_x_i, valid_x_i, test_x]:\n",
    "                x.iloc[:] = standardization(mean_x, std_x, x)\n",
    "            \n",
    "            n_epochs = 10\n",
    "            batch_size = 256\n",
    "            num_steps = train_x_i.shape[0] // batch_size + 1\n",
    "\n",
    "            x = tf.placeholder(\"float\", [None, train_x_i.shape[1]])\n",
    "            y_true = tf.placeholder(\"float\", [None, 1])\n",
    "\n",
    "            model = clf()\n",
    "            y_logits = model(x)\n",
    "            y_pred = tf.sigmoid(y_logits)\n",
    "            loss = tf.reduce_mean(tf.nn.sigmoid_cross_entropy_with_logits(logits=y_logits, labels=y_true))\n",
    "            optimizer = tf.train.AdamOptimizer(3e-3).minimize(loss)\n",
    "            init = tf.global_variables_initializer()\n",
    "            sess = tf.Session()\n",
    "            sess.run(init)\n",
    "            for epoch in range(n_epochs):\n",
    "                print(\"epoch\", epoch)\n",
    "                for step in range(num_steps):\n",
    "                    \n",
    "                    if step % 200 == 0:\n",
    "                        print(step)\n",
    "                        val_pred = np.squeeze(sess.run(y_pred, feed_dict={x: valid_x_i}))\n",
    "                        print('auc: ', roc_auc_score(valid_y_i, val_pred))\n",
    "\n",
    "                    offset = (step * batch_size)\n",
    "                    batch_train = (train_x_i.values)[offset:(offset + batch_size), :]\n",
    "                    batch_labels = (train_y_i.values)[:,np.newaxis][offset:(offset + batch_size), :]\n",
    "                    _, l = sess.run([optimizer, loss], feed_dict={\n",
    "                                    x: batch_train, y_true: batch_labels})\n",
    "                    \n",
    "            val_pred = np.squeeze(sess.run(y_pred, feed_dict={x: valid_x_i}))\n",
    "            test_pred = np.squeeze(sess.run(y_pred, feed_dict={x: test_x}))\n",
    "            \n",
    "\n",
    "        if clf_name == \"xgb\":\n",
    "            train_D = clf.DMatrix(train_x_i, label=train_y_i)\n",
    "            valid_D = clf.DMatrix(valid_x_i, label=valid_y_i)\n",
    "            params = {\n",
    "                    'eval_metric': 'auc',\n",
    "                    'objective': 'binary:logistic',\n",
    "                    'gamma': 1,\n",
    "                    'max_depth': 5\n",
    "            }\n",
    "            model = clf.train(params, train_D, num_boost_round=200, evals=[(train_D, 'train'),(valid_D, 'eval')], verbose_eval=2,early_stopping_rounds=10)\n",
    "            val_pred = model.predict(clf.DMatrix(valid_x_i), ntree_limit=model.best_ntree_limit)\n",
    "            test_pred = model.predict(clf.DMatrix(test_x), ntree_limit=model.best_ntree_limit)\n",
    "\n",
    "        test += test_pred / kf.n_splits\n",
    "        cv_scores.append(roc_auc_score(valid_y_i, val_pred))\n",
    "        \n",
    "        print(\"cv_socres:\", cv_scores)\n",
    "        \n",
    "            \n",
    "        \n",
    "    print(\"%s_scotrainre_list:\" % clf_name, cv_scores)\n",
    "    print(\"%s_score_mean:\" % clf_name, np.mean(cv_scores))\n",
    "    print(\"%s_score_std:\" % clf_name, np.std(cv_scores))\n",
    "    return test"
   ]
  },
  {
   "cell_type": "code",
   "execution_count": 44,
   "metadata": {},
   "outputs": [],
   "source": [
    "def lgb_model(x_train, y_train, x_test):\n",
    "    lgb_test = cv_model(lgb, x_train, y_train, x_test, \"lgb\")\n",
    "    return lgb_test\n",
    "\n",
    "def xgb_model(x_train, y_train, x_test):\n",
    "    xgb_test = cv_model(xgb, x_train, y_train, x_test, \"xgb\")\n",
    "    return xgb_test\n",
    "\n",
    "def svm_model(x_train, y_train, x_test):\n",
    "    svm_test = cv_model(LinearSVC, x_train, y_train, x_test, \"svm\")\n",
    "    return svm_test\n",
    "\n",
    "def nn_model(x_train, y_train, x_test):\n",
    "    nn_test = cv_model(nn, x_train, y_train, x_test, \"nn\")\n",
    "    return nn_test\n",
    "\n",
    "def lr_model(x_train, y_train, x_test):\n",
    "    lr_test = cv_model(LogisticRegression, x_train, y_train, x_test, \"lr\")\n",
    "    return lr_test"
   ]
  },
  {
   "cell_type": "code",
   "execution_count": 45,
   "metadata": {},
   "outputs": [],
   "source": [
    "features = [f for f in train.columns if f not in ['id','isDefault','policyCode']]\n",
    "x_train = train[features]\n",
    "x_test = test[features]\n",
    "y_train = train['isDefault']"
   ]
  },
  {
   "cell_type": "code",
   "execution_count": 46,
   "metadata": {},
   "outputs": [
    {
     "name": "stdout",
     "output_type": "stream",
     "text": [
      "iteration 1\n",
      "[0]\ttrain-auc:0.70071\teval-auc:0.70257\n",
      "[2]\ttrain-auc:0.70898\teval-auc:0.71029\n",
      "[4]\ttrain-auc:0.71219\teval-auc:0.71336\n",
      "[6]\ttrain-auc:0.71502\teval-auc:0.71591\n",
      "[8]\ttrain-auc:0.71754\teval-auc:0.71836\n",
      "[10]\ttrain-auc:0.72097\teval-auc:0.72142\n",
      "[12]\ttrain-auc:0.72303\teval-auc:0.72324\n",
      "[14]\ttrain-auc:0.72475\teval-auc:0.72461\n",
      "[16]\ttrain-auc:0.72637\teval-auc:0.72578\n",
      "[18]\ttrain-auc:0.72739\teval-auc:0.72642\n",
      "[20]\ttrain-auc:0.72848\teval-auc:0.72701\n",
      "[22]\ttrain-auc:0.72984\teval-auc:0.72782\n",
      "[24]\ttrain-auc:0.73070\teval-auc:0.72822\n",
      "[26]\ttrain-auc:0.73156\teval-auc:0.72865\n",
      "[28]\ttrain-auc:0.73258\teval-auc:0.72924\n",
      "[30]\ttrain-auc:0.73340\teval-auc:0.72968\n",
      "[32]\ttrain-auc:0.73413\teval-auc:0.72978\n",
      "[34]\ttrain-auc:0.73508\teval-auc:0.73025\n",
      "[36]\ttrain-auc:0.73588\teval-auc:0.73065\n",
      "[38]\ttrain-auc:0.73653\teval-auc:0.73079\n",
      "[40]\ttrain-auc:0.73703\teval-auc:0.73102\n",
      "[42]\ttrain-auc:0.73768\teval-auc:0.73128\n",
      "[44]\ttrain-auc:0.73838\teval-auc:0.73149\n",
      "[46]\ttrain-auc:0.73881\teval-auc:0.73157\n",
      "[48]\ttrain-auc:0.73952\teval-auc:0.73172\n",
      "[50]\ttrain-auc:0.73990\teval-auc:0.73175\n",
      "[52]\ttrain-auc:0.74036\teval-auc:0.73193\n",
      "[54]\ttrain-auc:0.74087\teval-auc:0.73198\n",
      "[56]\ttrain-auc:0.74138\teval-auc:0.73213\n",
      "[58]\ttrain-auc:0.74189\teval-auc:0.73244\n",
      "[60]\ttrain-auc:0.74243\teval-auc:0.73255\n",
      "[62]\ttrain-auc:0.74293\teval-auc:0.73267\n",
      "[64]\ttrain-auc:0.74339\teval-auc:0.73280\n",
      "[66]\ttrain-auc:0.74389\teval-auc:0.73290\n",
      "[68]\ttrain-auc:0.74447\teval-auc:0.73311\n",
      "[70]\ttrain-auc:0.74499\teval-auc:0.73323\n",
      "[72]\ttrain-auc:0.74553\teval-auc:0.73333\n",
      "[74]\ttrain-auc:0.74592\teval-auc:0.73335\n",
      "[76]\ttrain-auc:0.74628\teval-auc:0.73344\n",
      "[78]\ttrain-auc:0.74662\teval-auc:0.73348\n",
      "[80]\ttrain-auc:0.74717\teval-auc:0.73378\n",
      "[82]\ttrain-auc:0.74760\teval-auc:0.73378\n",
      "[84]\ttrain-auc:0.74785\teval-auc:0.73382\n",
      "[86]\ttrain-auc:0.74801\teval-auc:0.73381\n",
      "[88]\ttrain-auc:0.74830\teval-auc:0.73382\n",
      "[90]\ttrain-auc:0.74871\teval-auc:0.73384\n",
      "[92]\ttrain-auc:0.74903\teval-auc:0.73390\n",
      "[94]\ttrain-auc:0.74938\teval-auc:0.73388\n",
      "[96]\ttrain-auc:0.74977\teval-auc:0.73388\n",
      "[98]\ttrain-auc:0.75029\teval-auc:0.73396\n",
      "[100]\ttrain-auc:0.75058\teval-auc:0.73398\n",
      "[102]\ttrain-auc:0.75108\teval-auc:0.73399\n",
      "[104]\ttrain-auc:0.75126\teval-auc:0.73398\n",
      "[106]\ttrain-auc:0.75160\teval-auc:0.73399\n",
      "[108]\ttrain-auc:0.75198\teval-auc:0.73410\n",
      "[110]\ttrain-auc:0.75223\teval-auc:0.73417\n",
      "[112]\ttrain-auc:0.75262\teval-auc:0.73414\n",
      "[114]\ttrain-auc:0.75279\teval-auc:0.73418\n",
      "[116]\ttrain-auc:0.75334\teval-auc:0.73434\n",
      "[118]\ttrain-auc:0.75369\teval-auc:0.73437\n",
      "[120]\ttrain-auc:0.75412\teval-auc:0.73434\n",
      "[122]\ttrain-auc:0.75449\teval-auc:0.73434\n",
      "[124]\ttrain-auc:0.75482\teval-auc:0.73437\n",
      "[126]\ttrain-auc:0.75512\teval-auc:0.73437\n",
      "[128]\ttrain-auc:0.75540\teval-auc:0.73436\n"
     ]
    },
    {
     "name": "stderr",
     "output_type": "stream",
     "text": [
      "/root/.local/lib/python3.7/site-packages/xgboost/core.py:94: UserWarning: ntree_limit is deprecated, use `iteration_range` or model slicing instead.\n",
      "  UserWarning\n"
     ]
    },
    {
     "name": "stdout",
     "output_type": "stream",
     "text": [
      "cv_socres: [0.7343723639111743]\n",
      "iteration 2\n",
      "[0]\ttrain-auc:0.70141\teval-auc:0.70018\n",
      "[2]\ttrain-auc:0.71006\teval-auc:0.70767\n",
      "[4]\ttrain-auc:0.71323\teval-auc:0.71035\n",
      "[6]\ttrain-auc:0.71637\teval-auc:0.71329\n",
      "[8]\ttrain-auc:0.71906\teval-auc:0.71567\n",
      "[10]\ttrain-auc:0.72228\teval-auc:0.71848\n",
      "[12]\ttrain-auc:0.72428\teval-auc:0.72001\n",
      "[14]\ttrain-auc:0.72624\teval-auc:0.72153\n",
      "[16]\ttrain-auc:0.72799\teval-auc:0.72270\n",
      "[18]\ttrain-auc:0.72902\teval-auc:0.72339\n",
      "[20]\ttrain-auc:0.73029\teval-auc:0.72420\n",
      "[22]\ttrain-auc:0.73124\teval-auc:0.72478\n",
      "[24]\ttrain-auc:0.73220\teval-auc:0.72541\n",
      "[26]\ttrain-auc:0.73298\teval-auc:0.72609\n",
      "[28]\ttrain-auc:0.73395\teval-auc:0.72667\n",
      "[30]\ttrain-auc:0.73505\teval-auc:0.72743\n",
      "[32]\ttrain-auc:0.73576\teval-auc:0.72780\n",
      "[34]\ttrain-auc:0.73643\teval-auc:0.72794\n",
      "[36]\ttrain-auc:0.73719\teval-auc:0.72827\n",
      "[38]\ttrain-auc:0.73779\teval-auc:0.72862\n",
      "[40]\ttrain-auc:0.73840\teval-auc:0.72882\n",
      "[42]\ttrain-auc:0.73919\teval-auc:0.72917\n",
      "[44]\ttrain-auc:0.73983\teval-auc:0.72932\n",
      "[46]\ttrain-auc:0.74046\teval-auc:0.72951\n",
      "[48]\ttrain-auc:0.74084\teval-auc:0.72961\n",
      "[50]\ttrain-auc:0.74131\teval-auc:0.72972\n",
      "[52]\ttrain-auc:0.74184\teval-auc:0.72984\n",
      "[54]\ttrain-auc:0.74234\teval-auc:0.72993\n",
      "[56]\ttrain-auc:0.74280\teval-auc:0.73000\n",
      "[58]\ttrain-auc:0.74325\teval-auc:0.73012\n",
      "[60]\ttrain-auc:0.74384\teval-auc:0.73019\n",
      "[62]\ttrain-auc:0.74418\teval-auc:0.73033\n",
      "[64]\ttrain-auc:0.74479\teval-auc:0.73050\n",
      "[66]\ttrain-auc:0.74532\teval-auc:0.73053\n",
      "[68]\ttrain-auc:0.74563\teval-auc:0.73055\n",
      "[70]\ttrain-auc:0.74617\teval-auc:0.73072\n",
      "[72]\ttrain-auc:0.74685\teval-auc:0.73097\n",
      "[74]\ttrain-auc:0.74740\teval-auc:0.73113\n",
      "[76]\ttrain-auc:0.74782\teval-auc:0.73111\n",
      "[78]\ttrain-auc:0.74821\teval-auc:0.73108\n",
      "[80]\ttrain-auc:0.74858\teval-auc:0.73109\n",
      "[82]\ttrain-auc:0.74886\teval-auc:0.73111\n",
      "[84]\ttrain-auc:0.74922\teval-auc:0.73113\n"
     ]
    },
    {
     "name": "stderr",
     "output_type": "stream",
     "text": [
      "/root/.local/lib/python3.7/site-packages/xgboost/core.py:94: UserWarning: ntree_limit is deprecated, use `iteration_range` or model slicing instead.\n",
      "  UserWarning\n"
     ]
    },
    {
     "name": "stdout",
     "output_type": "stream",
     "text": [
      "cv_socres: [0.7343723639111743, 0.7311354121156903]\n",
      "iteration 3\n",
      "[0]\ttrain-auc:0.70208\teval-auc:0.69908\n",
      "[2]\ttrain-auc:0.71048\teval-auc:0.70679\n",
      "[4]\ttrain-auc:0.71371\teval-auc:0.70964\n",
      "[6]\ttrain-auc:0.71668\teval-auc:0.71224\n",
      "[8]\ttrain-auc:0.71952\teval-auc:0.71478\n",
      "[10]\ttrain-auc:0.72207\teval-auc:0.71680\n",
      "[12]\ttrain-auc:0.72461\teval-auc:0.71876\n",
      "[14]\ttrain-auc:0.72667\teval-auc:0.72035\n",
      "[16]\ttrain-auc:0.72837\teval-auc:0.72137\n",
      "[18]\ttrain-auc:0.72957\teval-auc:0.72210\n",
      "[20]\ttrain-auc:0.73050\teval-auc:0.72241\n",
      "[22]\ttrain-auc:0.73187\teval-auc:0.72328\n",
      "[24]\ttrain-auc:0.73297\teval-auc:0.72388\n",
      "[26]\ttrain-auc:0.73376\teval-auc:0.72432\n",
      "[28]\ttrain-auc:0.73456\teval-auc:0.72463\n",
      "[30]\ttrain-auc:0.73539\teval-auc:0.72502\n",
      "[32]\ttrain-auc:0.73643\teval-auc:0.72548\n",
      "[34]\ttrain-auc:0.73714\teval-auc:0.72569\n",
      "[36]\ttrain-auc:0.73769\teval-auc:0.72588\n",
      "[38]\ttrain-auc:0.73847\teval-auc:0.72615\n",
      "[40]\ttrain-auc:0.73904\teval-auc:0.72624\n",
      "[42]\ttrain-auc:0.73996\teval-auc:0.72673\n",
      "[44]\ttrain-auc:0.74066\teval-auc:0.72685\n",
      "[46]\ttrain-auc:0.74123\teval-auc:0.72701\n",
      "[48]\ttrain-auc:0.74186\teval-auc:0.72720\n",
      "[50]\ttrain-auc:0.74226\teval-auc:0.72731\n",
      "[52]\ttrain-auc:0.74277\teval-auc:0.72740\n",
      "[54]\ttrain-auc:0.74335\teval-auc:0.72754\n",
      "[56]\ttrain-auc:0.74393\teval-auc:0.72769\n",
      "[58]\ttrain-auc:0.74450\teval-auc:0.72782\n",
      "[60]\ttrain-auc:0.74499\teval-auc:0.72790\n",
      "[62]\ttrain-auc:0.74540\teval-auc:0.72798\n",
      "[64]\ttrain-auc:0.74593\teval-auc:0.72818\n",
      "[66]\ttrain-auc:0.74631\teval-auc:0.72817\n",
      "[68]\ttrain-auc:0.74677\teval-auc:0.72823\n",
      "[70]\ttrain-auc:0.74728\teval-auc:0.72826\n",
      "[72]\ttrain-auc:0.74771\teval-auc:0.72832\n",
      "[74]\ttrain-auc:0.74808\teval-auc:0.72835\n",
      "[76]\ttrain-auc:0.74854\teval-auc:0.72843\n",
      "[78]\ttrain-auc:0.74902\teval-auc:0.72857\n",
      "[80]\ttrain-auc:0.74964\teval-auc:0.72881\n",
      "[82]\ttrain-auc:0.74997\teval-auc:0.72882\n",
      "[84]\ttrain-auc:0.75048\teval-auc:0.72887\n",
      "[86]\ttrain-auc:0.75081\teval-auc:0.72881\n",
      "[88]\ttrain-auc:0.75123\teval-auc:0.72885\n",
      "[90]\ttrain-auc:0.75164\teval-auc:0.72887\n",
      "[92]\ttrain-auc:0.75213\teval-auc:0.72893\n",
      "[94]\ttrain-auc:0.75249\teval-auc:0.72899\n",
      "[96]\ttrain-auc:0.75281\teval-auc:0.72889\n",
      "[98]\ttrain-auc:0.75344\teval-auc:0.72903\n",
      "[100]\ttrain-auc:0.75390\teval-auc:0.72914\n",
      "[102]\ttrain-auc:0.75438\teval-auc:0.72935\n",
      "[104]\ttrain-auc:0.75457\teval-auc:0.72933\n",
      "[106]\ttrain-auc:0.75489\teval-auc:0.72934\n",
      "[108]\ttrain-auc:0.75531\teval-auc:0.72928\n",
      "[110]\ttrain-auc:0.75571\teval-auc:0.72929\n",
      "[112]\ttrain-auc:0.75603\teval-auc:0.72924\n",
      "[114]\ttrain-auc:0.75614\teval-auc:0.72922\n"
     ]
    },
    {
     "name": "stderr",
     "output_type": "stream",
     "text": [
      "/root/.local/lib/python3.7/site-packages/xgboost/core.py:94: UserWarning: ntree_limit is deprecated, use `iteration_range` or model slicing instead.\n",
      "  UserWarning\n"
     ]
    },
    {
     "name": "stdout",
     "output_type": "stream",
     "text": [
      "cv_socres: [0.7343723639111743, 0.7311354121156903, 0.7293684562845655]\n",
      "xgb_scotrainre_list: [0.7343723639111743, 0.7311354121156903, 0.7293684562845655]\n",
      "xgb_score_mean: 0.7316254107704768\n",
      "xgb_score_std: 0.0020720114052417606\n"
     ]
    }
   ],
   "source": [
    "# lgb_test = lgb_model(x_train, y_train, x_test) # test auc 0.7337\n",
    "# svm_test = svm_model(x_train, y_train, x_test) # test auc 0.6507\n",
    "# nn_test = nn_model(x_train, y_train, x_test) # test auc 0.7238\n",
    "# lr_test = lr_model(x_train, y_train, x_test) # test auc 0.6937\n",
    "xgb_test = xgb_model(x_train, y_train, x_test) # test auc 0.7314"
   ]
  },
  {
   "cell_type": "markdown",
   "metadata": {},
   "source": [
    "# 代码提交"
   ]
  },
  {
   "cell_type": "code",
   "execution_count": 49,
   "metadata": {},
   "outputs": [],
   "source": [
    "sub = test[['id']].copy()"
   ]
  },
  {
   "cell_type": "code",
   "execution_count": 50,
   "metadata": {},
   "outputs": [],
   "source": [
    "sub['isDefault']=xgb_test#lr_test#svm_test#nn_test#svm_test#lgb_test"
   ]
  },
  {
   "cell_type": "code",
   "execution_count": 51,
   "metadata": {},
   "outputs": [],
   "source": [
    "sub.to_csv('prediction.csv', index=False)"
   ]
  },
  {
   "cell_type": "code",
   "execution_count": null,
   "metadata": {},
   "outputs": [],
   "source": []
  }
 ],
 "metadata": {
  "kernelspec": {
   "display_name": "Python 3",
   "language": "python",
   "name": "python3"
  },
  "language_info": {
   "codemirror_mode": {
    "name": "ipython",
    "version": 3
   },
   "file_extension": ".py",
   "mimetype": "text/x-python",
   "name": "python",
   "nbconvert_exporter": "python",
   "pygments_lexer": "ipython3",
   "version": "3.6.12"
  }
 },
 "nbformat": 4,
 "nbformat_minor": 4
}
